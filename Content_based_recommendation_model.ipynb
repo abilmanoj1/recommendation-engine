{
  "nbformat": 4,
  "nbformat_minor": 0,
  "metadata": {
    "colab": {
      "provenance": []
    },
    "kernelspec": {
      "name": "python3",
      "display_name": "Python 3"
    },
    "language_info": {
      "name": "python"
    }
  },
  "cells": [
    {
      "cell_type": "code",
      "execution_count": null,
      "metadata": {
        "colab": {
          "base_uri": "https://localhost:8080/"
        },
        "id": "V6XDHHxBJWAA",
        "outputId": "9ac62be4-e733-4942-b0c0-dfd7eb7d91f0"
      },
      "outputs": [
        {
          "output_type": "stream",
          "name": "stdout",
          "text": [
            "Mounted at /content/drive\n"
          ]
        }
      ],
      "source": [
        "from google.colab import drive\n",
        "\n",
        "# Mount Google Drive\n",
        "drive.mount('/content/drive')"
      ]
    },
    {
      "cell_type": "code",
      "source": [
        "import pandas as pd\n",
        "# Loading the dataset\n",
        "def loaddata():\n",
        "    df = pd.read_csv(f'/content/drive/MyDrive/keywords.csv', sep=',', encoding='latin-1')\n",
        "    return df\n",
        "\n",
        "keywords   = loaddata()"
      ],
      "metadata": {
        "id": "QAM81wngJkNK"
      },
      "execution_count": null,
      "outputs": []
    },
    {
      "cell_type": "code",
      "source": [
        "keywords.shape"
      ],
      "metadata": {
        "colab": {
          "base_uri": "https://localhost:8080/"
        },
        "id": "_DajWpRoJpiJ",
        "outputId": "1de3637d-6113-487a-e5a7-4a44d6e8dce5"
      },
      "execution_count": null,
      "outputs": [
        {
          "output_type": "execute_result",
          "data": {
            "text/plain": [
              "(9959, 11)"
            ]
          },
          "metadata": {},
          "execution_count": 6
        }
      ]
    },
    {
      "cell_type": "code",
      "source": [
        "# Vectorize the keywords summary using TF-IDF\n",
        "# TFIDFVectorizer computer the TF_TDF score for each term in each doc\n",
        "from sklearn.feature_extraction.text import TfidfVectorizer\n",
        "tfidf = TfidfVectorizer(analyzer = 'word',\n",
        "                        min_df=3,\n",
        "                        max_df = 0.6,\n",
        "                        stop_words=\"english\",\n",
        "                        encoding = 'utf-8',\n",
        "                        token_pattern=r\"(?u)\\S\\S+\")\n",
        "tfidf_encoding = tfidf.fit_transform(keywords[\"keywords\"])"
      ],
      "metadata": {
        "id": "GS_JQl9mJxW9"
      },
      "execution_count": null,
      "outputs": []
    },
    {
      "cell_type": "code",
      "source": [
        "tfidf_encoding.shape"
      ],
      "metadata": {
        "colab": {
          "base_uri": "https://localhost:8080/"
        },
        "id": "USujDAwZOAvM",
        "outputId": "69a9e4be-59a3-4df1-fd97-81dfa1cda924"
      },
      "execution_count": null,
      "outputs": [
        {
          "output_type": "execute_result",
          "data": {
            "text/plain": [
              "(9959, 6328)"
            ]
          },
          "metadata": {},
          "execution_count": 9
        }
      ]
    },
    {
      "cell_type": "code",
      "source": [
        "print(tfidf.get_feature_names_out()[1:100])"
      ],
      "metadata": {
        "id": "NPyQR0_lJ-fu"
      },
      "execution_count": null,
      "outputs": []
    },
    {
      "cell_type": "code",
      "source": [
        "# sparse matrix where ros represent books and columns represent the term and each entry corresponds to the numeric representation of the term,\n",
        "# suitabe for ML purposes\n",
        "tfidf_encoding"
      ],
      "metadata": {
        "colab": {
          "base_uri": "https://localhost:8080/"
        },
        "id": "e-Mb85ZBgsZb",
        "outputId": "dc8e62aa-7fdf-445f-e37b-73d0b918b556"
      },
      "execution_count": null,
      "outputs": [
        {
          "output_type": "execute_result",
          "data": {
            "text/plain": [
              "<9959x6328 sparse matrix of type '<class 'numpy.float64'>'\n",
              "\twith 137323 stored elements in Compressed Sparse Row format>"
            ]
          },
          "metadata": {},
          "execution_count": 4
        }
      ]
    },
    {
      "cell_type": "code",
      "source": [
        "tfidf_encoding.toarray().shape"
      ],
      "metadata": {
        "colab": {
          "base_uri": "https://localhost:8080/"
        },
        "id": "P7v-TricKGyf",
        "outputId": "371adaa6-bef5-40f2-e97e-b98a80ba41ab"
      },
      "execution_count": null,
      "outputs": [
        {
          "output_type": "execute_result",
          "data": {
            "text/plain": [
              "(9959, 6328)"
            ]
          },
          "metadata": {},
          "execution_count": 5
        }
      ]
    },
    {
      "cell_type": "code",
      "source": [
        "from sklearn.metrics.pairwise import cosine_similarity\n",
        "\n",
        "# calculates the cosine similarity between tf-idf vectors of the book\n",
        "book_cosine_sim = cosine_similarity(tfidf_encoding, tfidf_encoding)"
      ],
      "metadata": {
        "id": "VAqHZfMvKN4r"
      },
      "execution_count": null,
      "outputs": []
    },
    {
      "cell_type": "code",
      "source": [
        "# Preview Similarity Matrix\n",
        "book_cosine_sim.shape\n",
        "# print(book_cosine_sim)"
      ],
      "metadata": {
        "colab": {
          "base_uri": "https://localhost:8080/"
        },
        "id": "Ff5OTYa5KQ3w",
        "outputId": "d948d7e0-ab47-4dd9-fdb0-33bb0dd8d430"
      },
      "execution_count": null,
      "outputs": [
        {
          "output_type": "execute_result",
          "data": {
            "text/plain": [
              "(9959, 9959)"
            ]
          },
          "metadata": {},
          "execution_count": 8
        }
      ]
    },
    {
      "cell_type": "markdown",
      "source": [
        "Recommendation"
      ],
      "metadata": {
        "id": "9Lf320rzKdVT"
      }
    },
    {
      "cell_type": "code",
      "source": [
        "books = pd.Series(keywords['title'])\n",
        "\n",
        "def recommend_books_similar_to(book_name, n=5, cosine_sim_mat=book_cosine_sim):\n",
        "    # get index of the imput book\n",
        "    input_idx = books[books == book_name].index[0]\n",
        "    print(\"index id: \",input_idx)\n",
        "    # Find top n similar books with decreasing order of similarity score\n",
        "    top_n_books_idx = list(pd.Series(cosine_sim_mat[input_idx]).sort_values(ascending = False).iloc[1:n+1].index)\n",
        "    print(\"cosine matrix: \",pd.Series(cosine_sim_mat[input_idx]))\n",
        "    # [1:6] to exclude 0 (index 0 is the input movie itself)\n",
        "    print(\"book indices: \",top_n_books_idx)\n",
        "\n",
        "    books_list = list(books)\n",
        "    recommended_books = [books[i] for i in top_n_books_idx]\n",
        "\n",
        "    return recommended_books"
      ],
      "metadata": {
        "id": "2ZFCjEzxKe2S"
      },
      "execution_count": null,
      "outputs": []
    },
    {
      "cell_type": "code",
      "source": [
        "recomm = recommend_books_similar_to(\"Read the Bible for a Change: Understanding and Responding to God's Word\", 3)\n",
        "recomm"
      ],
      "metadata": {
        "colab": {
          "base_uri": "https://localhost:8080/"
        },
        "id": "DRaxZDrRKwkn",
        "outputId": "984fb29f-0eec-4b7b-f67f-9820e59df2a7"
      },
      "execution_count": null,
      "outputs": [
        {
          "output_type": "stream",
          "name": "stdout",
          "text": [
            "index id:  1493\n",
            "cosine matrix:  0       0.000000\n",
            "1       0.000000\n",
            "2       0.000000\n",
            "3       0.000000\n",
            "4       0.007343\n",
            "          ...   \n",
            "9954    0.000000\n",
            "9955    0.009286\n",
            "9956    0.000000\n",
            "9957    0.009778\n",
            "9958    0.000000\n",
            "Length: 9959, dtype: float64\n",
            "book indices:  [5968, 1607, 9219]\n"
          ]
        },
        {
          "output_type": "execute_result",
          "data": {
            "text/plain": [
              "['A High View of Scripture?: The Authority of the Bible and the Formation of the New Testament Canon',\n",
              " 'Words of Delight: A Literary Introduction to the Bible',\n",
              " 'Dominion and Dynasty: A Theology of the Hebrew Bible']"
            ]
          },
          "metadata": {},
          "execution_count": 13
        }
      ]
    },
    {
      "cell_type": "code",
      "source": [
        "def calculate_precision_recall(recommended_books, ground_truth_books):\n",
        "    # Convert the lists to sets for efficient intersection calculation\n",
        "    recommended_set = set(recommended_books)\n",
        "    ground_truth_set = set(ground_truth_books)\n",
        "\n",
        "    # Calculate Precision and Recall\n",
        "    intersection = recommended_set.intersection(ground_truth_set)\n",
        "    precision = len(intersection) / len(recommended_set) if len(recommended_set) > 0 else 0\n",
        "    recall = len(intersection) / len(ground_truth_set) if len(ground_truth_set) > 0 else 0\n",
        "\n",
        "    return precision, recall\n",
        "\n",
        "# Hypothetical ground truth books that should be recommended to a user\n",
        "ground_truth_books = [\"A Light to the Nations: The Missional Church and the Biblical Story\", \"Read the Bible for a Change: Understanding and Responding to God's Word\",\n",
        "                      \"The HarperCollins Study Bible: Fully Revised & Updated\",\"Why Our Church Switched to the ESV\",\"Where To Find It In The Bible The Ultimate A To Z Resource\",\n",
        "                      \"Words of Delight: A Literary Introduction to the Bible\"]\n",
        "\n",
        "# Example: Evaluate the performance of your recommendation system\n",
        "recommended_books = recommend_books_similar_to(\"A High View of Scripture?: The Authority of the Bible and the Formation of the New Testament Canon\", 10)\n",
        "\n",
        "precision, recall = calculate_precision_recall(recommended_books, ground_truth_books)\n",
        "print(f'Precision: {precision}')\n",
        "print(f'Recall: {recall}')\n"
      ],
      "metadata": {
        "colab": {
          "base_uri": "https://localhost:8080/"
        },
        "id": "wevmUnKbPERq",
        "outputId": "750c7555-5aee-4478-f3f8-1568ba73ce32"
      },
      "execution_count": null,
      "outputs": [
        {
          "output_type": "stream",
          "name": "stdout",
          "text": [
            "Precision: 0.4\n",
            "Recall: 0.6666666666666666\n"
          ]
        }
      ]
    }
  ]
}