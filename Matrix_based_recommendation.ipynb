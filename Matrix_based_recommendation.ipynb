{
  "nbformat": 4,
  "nbformat_minor": 0,
  "metadata": {
    "colab": {
      "provenance": []
    },
    "kernelspec": {
      "name": "python3",
      "display_name": "Python 3"
    },
    "language_info": {
      "name": "python"
    }
  },
  "cells": [
    {
      "cell_type": "code",
      "execution_count": null,
      "metadata": {
        "id": "5z-lpPj_kBe-"
      },
      "outputs": [],
      "source": [
        "import numpy as np\n",
        "import pandas as pd\n",
        "import torch\n",
        "import torch.nn as nn\n",
        "import torch.optim as optim\n",
        "from sklearn.preprocessing import LabelEncoder\n",
        "from sklearn.model_selection import train_test_split\n",
        "from sklearn.metrics import mean_squared_error\n",
        "from sklearn.metrics import mean_absolute_error"
      ]
    },
    {
      "cell_type": "code",
      "source": [
        "from google.colab import drive\n",
        "\n",
        "# Mount Google Drive\n",
        "drive.mount('/content/drive')"
      ],
      "metadata": {
        "colab": {
          "base_uri": "https://localhost:8080/"
        },
        "id": "Johu71_HkNPG",
        "outputId": "57a278ef-f689-40b9-d401-02800b8b96db"
      },
      "execution_count": null,
      "outputs": [
        {
          "output_type": "stream",
          "name": "stdout",
          "text": [
            "Mounted at /content/drive\n"
          ]
        }
      ]
    },
    {
      "cell_type": "code",
      "source": [
        "import pandas as pd\n",
        "# Loading the dataset\n",
        "def loaddata(filename):\n",
        "    df = pd.read_csv(f'/content/drive/MyDrive/data-brm/{filename}.csv', sep=',', encoding='latin-1')\n",
        "    return df\n",
        "\n",
        "def loaddata2():\n",
        "    df = pd.read_csv(f'/content/drive/MyDrive/cleaned_book_data.csv', sep=',', encoding='latin-1')\n",
        "    return df\n",
        "\n",
        "books   = loaddata2()\n",
        "ratings = loaddata(\"ratings\")"
      ],
      "metadata": {
        "id": "qu6TfA-nkRZE"
      },
      "execution_count": null,
      "outputs": []
    },
    {
      "cell_type": "code",
      "source": [
        "ratings.shape"
      ],
      "metadata": {
        "colab": {
          "base_uri": "https://localhost:8080/"
        },
        "id": "JEEaiYBn4bOo",
        "outputId": "5d23e4e8-da33-4da6-af43-22b270c34e6d"
      },
      "execution_count": null,
      "outputs": [
        {
          "output_type": "execute_result",
          "data": {
            "text/plain": [
              "(5976479, 3)"
            ]
          },
          "metadata": {},
          "execution_count": 5
        }
      ]
    },
    {
      "cell_type": "code",
      "source": [
        "import pandas as pd\n",
        "\n",
        "# Assuming you have loaded your ratings dataset into a DataFrame called 'ratings'\n",
        "\n",
        "# Group by 'book_id' and count unique 'user_id' values for each book\n",
        "book_ratings_count = ratings.groupby('book_id')['user_id'].nunique()\n",
        "\n",
        "# Calculate the mean of the counts\n",
        "average_users_per_book = book_ratings_count.mean()\n",
        "\n",
        "print(f\"Average number of users who rated each book: {average_users_per_book:.2f}\")\n"
      ],
      "metadata": {
        "colab": {
          "base_uri": "https://localhost:8080/"
        },
        "id": "6OJ7-KbDIAzJ",
        "outputId": "5c2c77c6-508f-440f-e0a9-35adf82aa56d"
      },
      "execution_count": null,
      "outputs": [
        {
          "output_type": "stream",
          "name": "stdout",
          "text": [
            "Average number of users who rated each book: 597.65\n"
          ]
        }
      ]
    },
    {
      "cell_type": "code",
      "source": [
        "import pandas as pd\n",
        "\n",
        "# Assuming you have loaded your ratings dataset into a DataFrame called 'ratings'\n",
        "\n",
        "# Group by 'book_id' and count the number of ratings for each book\n",
        "book_ratings_count = ratings['book_id'].value_counts().reset_index()\n",
        "book_ratings_count.columns = ['book_id', 'ratings_count']\n",
        "\n",
        "# Calculate the average number of ratings per book\n",
        "average_ratings_per_book = book_ratings_count['ratings_count'].mean()\n",
        "\n",
        "print(f\"Average number of ratings per book: {average_ratings_per_book:.2f}\")\n"
      ],
      "metadata": {
        "colab": {
          "base_uri": "https://localhost:8080/"
        },
        "id": "E7NhAFwuzDiQ",
        "outputId": "c88a426c-2078-46ec-a8ad-ac9258ebea9c"
      },
      "execution_count": null,
      "outputs": [
        {
          "output_type": "stream",
          "name": "stdout",
          "text": [
            "Average number of ratings per book: 597.65\n"
          ]
        }
      ]
    },
    {
      "cell_type": "code",
      "source": [
        "import pandas as pd\n",
        "\n",
        "# Assuming you have loaded your book dataset into a DataFrame called 'books'\n",
        "# Also assuming you have calculated 'book_ratings_count' as described previously\n",
        "\n",
        "# Define the threshold for the minimum number of ratings\n",
        "threshold_ratings_count = 598  # Adjust this threshold as needed\n",
        "\n",
        "# Filter the 'book_ratings_count' DataFrame to include books with more than the threshold number of ratings\n",
        "popular_books = book_ratings_count[book_ratings_count['ratings_count'] > threshold_ratings_count]\n",
        "\n",
        "# Get the count of books that meet the threshold\n",
        "num_popular_books = len(popular_books)\n",
        "\n",
        "print(f\"Number of books with more than {threshold_ratings_count} ratings: {num_popular_books}\")\n"
      ],
      "metadata": {
        "colab": {
          "base_uri": "https://localhost:8080/"
        },
        "id": "hXKaAx6xzpn_",
        "outputId": "716415db-4277-4d64-c855-31f9927ca72e"
      },
      "execution_count": null,
      "outputs": [
        {
          "output_type": "stream",
          "name": "stdout",
          "text": [
            "Number of books with more than 598 ratings: 2108\n"
          ]
        }
      ]
    },
    {
      "cell_type": "code",
      "source": [
        "import pandas as pd\n",
        "import matplotlib.pyplot as plt\n",
        "\n",
        "# Assuming you have loaded your ratings dataset into a DataFrame called 'ratings'\n",
        "\n",
        "# Group by 'book_id' and count the number of ratings for each book\n",
        "book_ratings_count = ratings['book_id'].value_counts().reset_index()\n",
        "book_ratings_count.columns = ['book_id', 'ratings_count']\n",
        "\n",
        "# Sort by ratings_count in descending order (optional)\n",
        "book_ratings_count = book_ratings_count.sort_values(by='ratings_count', ascending=False)\n",
        "\n",
        "# Create a bar graph\n",
        "plt.figure(figsize=(12, 8))\n",
        "plt.barh(book_ratings_count['book_id'], book_ratings_count['ratings_count'], color='red')\n",
        "plt.xlabel('Number of Ratings')\n",
        "plt.ylabel('Book ID')\n",
        "plt.title('Number of Ratings for Each Book')\n",
        "plt.gca().invert_yaxis()  # Invert the y-axis for readability\n",
        "plt.show()\n"
      ],
      "metadata": {
        "colab": {
          "base_uri": "https://localhost:8080/",
          "height": 718
        },
        "id": "eG_efENkKeO4",
        "outputId": "9a06af7c-225b-4b06-a6e6-2e20aaeb612c"
      },
      "execution_count": null,
      "outputs": [
        {
          "output_type": "display_data",
          "data": {
            "text/plain": [
              "<Figure size 1200x800 with 1 Axes>"
            ],
            "image/png": "[encoded data removed]"
          },
          "metadata": {}
        }
      ]
    },
    {
      "cell_type": "code",
      "source": [
        "import pandas as pd\n",
        "import matplotlib.pyplot as plt\n",
        "\n",
        "# Assuming you have loaded your ratings dataset into a DataFrame called 'ratings'\n",
        "\n",
        "# Group by 'user_id' and count the number of ratings for each user\n",
        "user_ratings_count = ratings['user_id'].value_counts().reset_index()\n",
        "user_ratings_count.columns = ['user_id', 'ratings_count']\n",
        "\n",
        "# Sort by ratings_count in descending order (optional)\n",
        "user_ratings_count = user_ratings_count.sort_values(by='ratings_count', ascending=False)\n",
        "\n",
        "# Create a bar graph\n",
        "plt.figure(figsize=(12, 8))\n",
        "plt.bar(user_ratings_count['user_id'], user_ratings_count['ratings_count'], color='green')\n",
        "plt.xlabel('User ID')\n",
        "plt.ylabel('Number of Ratings Given')\n",
        "plt.title('Number of Ratings Given by Each User')\n",
        "plt.show()\n"
      ],
      "metadata": {
        "colab": {
          "base_uri": "https://localhost:8080/",
          "height": 718
        },
        "id": "RZRuiurBLOEN",
        "outputId": "8fcbcffa-7944-4771-846d-d07dcd6b7734"
      },
      "execution_count": null,
      "outputs": [
        {
          "output_type": "display_data",
          "data": {
            "text/plain": [
              "<Figure size 1200x800 with 1 Axes>"
            ],
            "image/png": "[encoded data removed]"
          },
          "metadata": {}
        }
      ]
    },
    {
      "cell_type": "code",
      "source": [
        "import pandas as pd\n",
        "\n",
        "# Assuming you have loaded your ratings dataset into a DataFrame called 'ratings'\n",
        "\n",
        "# Group by 'book_id' and count the number of ratings for each book\n",
        "book_ratings_count = ratings['book_id'].value_counts().reset_index()\n",
        "book_ratings_count.columns = ['book_id', 'ratings_count']\n",
        "\n",
        "# Find the book with the highest and lowest number of ratings\n",
        "highest_rated_book = book_ratings_count.iloc[0]  # The first row has the highest count\n",
        "lowest_rated_book = book_ratings_count.iloc[-1]  # The last row has the lowest count\n",
        "\n",
        "print(f\"Highest rated book (Book ID): {highest_rated_book['book_id']}, Ratings Count: {highest_rated_book['ratings_count']}\")\n",
        "print(f\"Lowest rated book (Book ID): {lowest_rated_book['book_id']}, Ratings Count: {lowest_rated_book['ratings_count']}\")\n"
      ],
      "metadata": {
        "colab": {
          "base_uri": "https://localhost:8080/"
        },
        "id": "OezwoIiCxx44",
        "outputId": "70f14dfd-20dc-4b4c-f51c-5718a00b830a"
      },
      "execution_count": null,
      "outputs": [
        {
          "output_type": "stream",
          "name": "stdout",
          "text": [
            "Highest rated book (Book ID): 1, Ratings Count: 22806\n",
            "Lowest rated book (Book ID): 7803, Ratings Count: 8\n"
          ]
        }
      ]
    },
    {
      "cell_type": "code",
      "source": [
        "import pandas as pd\n",
        "\n",
        "# Assuming you have loaded your ratings dataset into a DataFrame called 'ratings'\n",
        "\n",
        "# Group by 'user_id' and count the number of ratings given by each user\n",
        "user_ratings_count = ratings['user_id'].value_counts().reset_index()\n",
        "user_ratings_count.columns = ['user_id', 'ratings_count']\n",
        "\n",
        "# Find the user with the least and most number of ratings\n",
        "user_with_least_ratings = user_ratings_count[user_ratings_count['ratings_count'] == user_ratings_count['ratings_count'].min()]\n",
        "user_with_most_ratings = user_ratings_count[user_ratings_count['ratings_count'] == user_ratings_count['ratings_count'].max()]\n",
        "\n",
        "# Print the user IDs and their respective ratings counts\n",
        "print(f\"User with the least number of ratings (User ID): {user_with_least_ratings['user_id'].values[0]}, Ratings Count: {user_with_least_ratings['ratings_count'].values[0]}\")\n",
        "print(f\"User with the most number of ratings (User ID): {user_with_most_ratings['user_id'].values[0]}, Ratings Count: {user_with_most_ratings['ratings_count'].values[0]}\")\n"
      ],
      "metadata": {
        "colab": {
          "base_uri": "https://localhost:8080/"
        },
        "id": "lXg49wg_1Iob",
        "outputId": "ef8af91f-d2f4-437f-a3b8-7b3d7ba1c9af"
      },
      "execution_count": null,
      "outputs": [
        {
          "output_type": "stream",
          "name": "stdout",
          "text": [
            "User with the least number of ratings (User ID): 34590, Ratings Count: 19\n",
            "User with the most number of ratings (User ID): 12874, Ratings Count: 200\n"
          ]
        }
      ]
    },
    {
      "cell_type": "code",
      "source": [
        "import pandas as pd\n",
        "\n",
        "# Assuming you have loaded your ratings dataset into a DataFrame called 'ratings'\n",
        "\n",
        "# Group by 'user_id' and count the number of ratings given by each user\n",
        "user_ratings_count = ratings['user_id'].value_counts().reset_index()\n",
        "user_ratings_count.columns = ['user_id', 'ratings_count']\n",
        "\n",
        "# Calculate the average number of ratings per user\n",
        "average_ratings_per_user = user_ratings_count['ratings_count'].mean()\n",
        "\n",
        "print(f\"Average number of ratings per user: {average_ratings_per_user:.2f}\")\n"
      ],
      "metadata": {
        "colab": {
          "base_uri": "https://localhost:8080/"
        },
        "id": "Hli9SA9f2FYq",
        "outputId": "bf41bf2e-e80b-4b60-c245-4f30180a2f23"
      },
      "execution_count": null,
      "outputs": [
        {
          "output_type": "stream",
          "name": "stdout",
          "text": [
            "Average number of ratings per user: 111.87\n"
          ]
        }
      ]
    },
    {
      "cell_type": "code",
      "source": [
        "import pandas as pd\n",
        "\n",
        "# Assuming you have loaded your ratings dataset into a DataFrame called 'ratings'\n",
        "\n",
        "# Define the threshold for the minimum number of ratings\n",
        "threshold_ratings_count = 100  # Adjust this threshold as needed\n",
        "\n",
        "# Group by 'user_id' and count the number of ratings given by each user\n",
        "user_ratings_count = ratings['user_id'].value_counts().reset_index()\n",
        "user_ratings_count.columns = ['user_id', 'ratings_count']\n",
        "\n",
        "# Filter the 'user_ratings_count' DataFrame to include users with more than the threshold number of ratings\n",
        "active_users = user_ratings_count[user_ratings_count['ratings_count'] > threshold_ratings_count]\n",
        "\n",
        "# Get the count of users who meet the threshold\n",
        "num_active_users = len(active_users)\n",
        "\n",
        "print(f\"Number of users with more than {threshold_ratings_count} ratings: {num_active_users}\")\n"
      ],
      "metadata": {
        "colab": {
          "base_uri": "https://localhost:8080/"
        },
        "id": "Ei32ri9Y2bND",
        "outputId": "98fdd1fe-b6f0-4fba-935b-13ffb518866d"
      },
      "execution_count": null,
      "outputs": [
        {
          "output_type": "stream",
          "name": "stdout",
          "text": [
            "Number of users with more than 100 ratings: 36199\n"
          ]
        }
      ]
    },
    {
      "cell_type": "code",
      "source": [
        "rating_users = ratings['user_id'].value_counts().reset_index().\\\n",
        "               rename({'index':'user_id','user_id':'rating'}, axis=1)"
      ],
      "metadata": {
        "id": "OiE9JdZsyZlk"
      },
      "execution_count": null,
      "outputs": []
    },
    {
      "cell_type": "code",
      "source": [
        "rating_books = ratings['book_id'].value_counts().reset_index().\\\n",
        "               rename({'index':'book_id','book_id':'rating'}, axis=1)"
      ],
      "metadata": {
        "id": "e2YmMuA3ybpU"
      },
      "execution_count": null,
      "outputs": []
    },
    {
      "cell_type": "code",
      "source": [
        "ratings = ratings[ratings['user_id'].isin(rating_users[rating_users['rating']>100]['user_id'])]\n",
        "ratings = ratings[ratings['book_id'].isin(rating_books[rating_books['rating']> 7000]['book_id'])]"
      ],
      "metadata": {
        "id": "OvtnvHHYyd5C"
      },
      "execution_count": null,
      "outputs": []
    },
    {
      "cell_type": "code",
      "source": [
        "ratings.shape"
      ],
      "metadata": {
        "colab": {
          "base_uri": "https://localhost:8080/"
        },
        "id": "so_HX9e2zeOw",
        "outputId": "36765cbf-0b2a-4451-85b0-64e0bfd26cd3"
      },
      "execution_count": null,
      "outputs": [
        {
          "output_type": "execute_result",
          "data": {
            "text/plain": [
              "(673340, 3)"
            ]
          },
          "metadata": {},
          "execution_count": 19
        }
      ]
    },
    {
      "cell_type": "code",
      "source": [
        "ratings = ratings[ratings['rating'] > 3]  # Keep only ratings greater than 3"
      ],
      "metadata": {
        "id": "IhYvGWzmygIi"
      },
      "execution_count": null,
      "outputs": []
    },
    {
      "cell_type": "code",
      "source": [
        "# Check for NaN (null) values in the entire array\n",
        "print(np.isnan(ratings).any())"
      ],
      "metadata": {
        "id": "OtFzq9ykyrx_"
      },
      "execution_count": null,
      "outputs": []
    },
    {
      "cell_type": "code",
      "source": [
        "ratings.shape"
      ],
      "metadata": {
        "colab": {
          "base_uri": "https://localhost:8080/"
        },
        "id": "reKo4sIYy2ue",
        "outputId": "bf4f8668-2cb4-4c5e-cbbf-1e03fec37f43"
      },
      "execution_count": null,
      "outputs": [
        {
          "output_type": "execute_result",
          "data": {
            "text/plain": [
              "(400000, 3)"
            ]
          },
          "metadata": {},
          "execution_count": 83
        }
      ]
    },
    {
      "cell_type": "code",
      "source": [
        "temp = ratings.head(50000)\n",
        "ratings = temp"
      ],
      "metadata": {
        "id": "EtPhsN3cy6LF"
      },
      "execution_count": null,
      "outputs": []
    },
    {
      "cell_type": "code",
      "source": [
        "ratings"
      ],
      "metadata": {
        "colab": {
          "base_uri": "https://localhost:8080/",
          "height": 424
        },
        "id": "bxfbGzEWg2QP",
        "outputId": "568f15c5-7404-4cc6-87ee-a2e55a4294c3"
      },
      "execution_count": null,
      "outputs": [
        {
          "output_type": "execute_result",
          "data": {
            "text/plain": [
              "       user_id  book_id  rating\n",
              "0            1      258       5\n",
              "1            2     4081       4\n",
              "2            2      260       5\n",
              "3            2     9296       5\n",
              "4            2     2318       3\n",
              "...        ...      ...     ...\n",
              "49995     1507      212       5\n",
              "49996     1507     3412       5\n",
              "49997     1695     3869       1\n",
              "49998     1695     8015       4\n",
              "49999     1695       94       4\n",
              "\n",
              "[50000 rows x 3 columns]"
            ],
            "text/html": [
              "\n",
              "  <div id=\"df-33194602-de16-459b-83f4-c91f746d7114\" class=\"colab-df-container\">\n",
              "    <div>\n",
              "<style scoped>\n",
              "    .dataframe tbody tr th:only-of-type {\n",
              "        vertical-align: middle;\n",
              "    }\n",
              "\n",
              "    .dataframe tbody tr th {\n",
              "        vertical-align: top;\n",
              "    }\n",
              "\n",
              "    .dataframe thead th {\n",
              "        text-align: right;\n",
              "    }\n",
              "</style>\n",
              "<table border=\"1\" class=\"dataframe\">\n",
              "  <thead>\n",
              "    <tr style=\"text-align: right;\">\n",
              "      <th></th>\n",
              "      <th>user_id</th>\n",
              "      <th>book_id</th>\n",
              "      <th>rating</th>\n",
              "    </tr>\n",
              "  </thead>\n",
              "  <tbody>\n",
              "    <tr>\n",
              "      <th>0</th>\n",
              "      <td>1</td>\n",
              "      <td>258</td>\n",
              "      <td>5</td>\n",
              "    </tr>\n",
              "    <tr>\n",
              "      <th>1</th>\n",
              "      <td>2</td>\n",
              "      <td>4081</td>\n",
              "      <td>4</td>\n",
              "    </tr>\n",
              "    <tr>\n",
              "      <th>2</th>\n",
              "      <td>2</td>\n",
              "      <td>260</td>\n",
              "      <td>5</td>\n",
              "    </tr>\n",
              "    <tr>\n",
              "      <th>3</th>\n",
              "      <td>2</td>\n",
              "      <td>9296</td>\n",
              "      <td>5</td>\n",
              "    </tr>\n",
              "    <tr>\n",
              "      <th>4</th>\n",
              "      <td>2</td>\n",
              "      <td>2318</td>\n",
              "      <td>3</td>\n",
              "    </tr>\n",
              "    <tr>\n",
              "      <th>...</th>\n",
              "      <td>...</td>\n",
              "      <td>...</td>\n",
              "      <td>...</td>\n",
              "    </tr>\n",
              "    <tr>\n",
              "      <th>49995</th>\n",
              "      <td>1507</td>\n",
              "      <td>212</td>\n",
              "      <td>5</td>\n",
              "    </tr>\n",
              "    <tr>\n",
              "      <th>49996</th>\n",
              "      <td>1507</td>\n",
              "      <td>3412</td>\n",
              "      <td>5</td>\n",
              "    </tr>\n",
              "    <tr>\n",
              "      <th>49997</th>\n",
              "      <td>1695</td>\n",
              "      <td>3869</td>\n",
              "      <td>1</td>\n",
              "    </tr>\n",
              "    <tr>\n",
              "      <th>49998</th>\n",
              "      <td>1695</td>\n",
              "      <td>8015</td>\n",
              "      <td>4</td>\n",
              "    </tr>\n",
              "    <tr>\n",
              "      <th>49999</th>\n",
              "      <td>1695</td>\n",
              "      <td>94</td>\n",
              "      <td>4</td>\n",
              "    </tr>\n",
              "  </tbody>\n",
              "</table>\n",
              "<p>50000 rows × 3 columns</p>\n",
              "</div>\n",
              "    <div class=\"colab-df-buttons\">\n",
              "\n",
              "  <div class=\"colab-df-container\">\n",
              "    <button class=\"colab-df-convert\" onclick=\"convertToInteractive('df-33194602-de16-459b-83f4-c91f746d7114')\"\n",
              "            title=\"Convert this dataframe to an interactive table.\"\n",
              "            style=\"display:none;\">\n",
              "\n",
              "  <svg xmlns=\"http://www.w3.org/2000/svg\" height=\"24px\" viewBox=\"0 -960 960 960\">\n",
              "    <path d=\"M120-120v-720h720v720H120Zm60-500h600v-160H180v160Zm220 220h160v-160H400v160Zm0 220h160v-160H400v160ZM180-400h160v-160H180v160Zm440 0h160v-160H620v160ZM180-180h160v-160H180v160Zm440 0h160v-160H620v160Z\"/>\n",
              "  </svg>\n",
              "    </button>\n",
              "\n",
              "  <style>\n",
              "    .colab-df-container {\n",
              "      display:flex;\n",
              "      gap: 12px;\n",
              "    }\n",
              "\n",
              "    .colab-df-convert {\n",
              "      background-color: #E8F0FE;\n",
              "      border: none;\n",
              "      border-radius: 50%;\n",
              "      cursor: pointer;\n",
              "      display: none;\n",
              "      fill: #1967D2;\n",
              "      height: 32px;\n",
              "      padding: 0 0 0 0;\n",
              "      width: 32px;\n",
              "    }\n",
              "\n",
              "    .colab-df-convert:hover {\n",
              "      background-color: #E2EBFA;\n",
              "      box-shadow: 0px 1px 2px rgba(60, 64, 67, 0.3), 0px 1px 3px 1px rgba(60, 64, 67, 0.15);\n",
              "      fill: #174EA6;\n",
              "    }\n",
              "\n",
              "    .colab-df-buttons div {\n",
              "      margin-bottom: 4px;\n",
              "    }\n",
              "\n",
              "    [theme=dark] .colab-df-convert {\n",
              "      background-color: #3B4455;\n",
              "      fill: #D2E3FC;\n",
              "    }\n",
              "\n",
              "    [theme=dark] .colab-df-convert:hover {\n",
              "      background-color: #434B5C;\n",
              "      box-shadow: 0px 1px 3px 1px rgba(0, 0, 0, 0.15);\n",
              "      filter: drop-shadow(0px 1px 2px rgba(0, 0, 0, 0.3));\n",
              "      fill: #FFFFFF;\n",
              "    }\n",
              "  </style>\n",
              "\n",
              "    <script>\n",
              "      const buttonEl =\n",
              "        document.querySelector('#df-33194602-de16-459b-83f4-c91f746d7114 button.colab-df-convert');\n",
              "      buttonEl.style.display =\n",
              "        google.colab.kernel.accessAllowed ? 'block' : 'none';\n",
              "\n",
              "      async function convertToInteractive(key) {\n",
              "        const element = document.querySelector('#df-33194602-de16-459b-83f4-c91f746d7114');\n",
              "        const dataTable =\n",
              "          await google.colab.kernel.invokeFunction('convertToInteractive',\n",
              "                                                    [key], {});\n",
              "        if (!dataTable) return;\n",
              "\n",
              "        const docLinkHtml = 'Like what you see? Visit the ' +\n",
              "          '<a target=\"_blank\" href=https://colab.research.google.com/notebooks/data_table.ipynb>data table notebook</a>'\n",
              "          + ' to learn more about interactive tables.';\n",
              "        element.innerHTML = '';\n",
              "        dataTable['output_type'] = 'display_data';\n",
              "        await google.colab.output.renderOutput(dataTable, element);\n",
              "        const docLink = document.createElement('div');\n",
              "        docLink.innerHTML = docLinkHtml;\n",
              "        element.appendChild(docLink);\n",
              "      }\n",
              "    </script>\n",
              "  </div>\n",
              "\n",
              "\n",
              "<div id=\"df-ae97b152-9439-4b9f-90dd-8f3a2dcd8264\">\n",
              "  <button class=\"colab-df-quickchart\" onclick=\"quickchart('df-ae97b152-9439-4b9f-90dd-8f3a2dcd8264')\"\n",
              "            title=\"Suggest charts.\"\n",
              "            style=\"display:none;\">\n",
              "\n",
              "<svg xmlns=\"http://www.w3.org/2000/svg\" height=\"24px\"viewBox=\"0 0 24 24\"\n",
              "     width=\"24px\">\n",
              "    <g>\n",
              "        <path d=\"M19 3H5c-1.1 0-2 .9-2 2v14c0 1.1.9 2 2 2h14c1.1 0 2-.9 2-2V5c0-1.1-.9-2-2-2zM9 17H7v-7h2v7zm4 0h-2V7h2v10zm4 0h-2v-4h2v4z\"/>\n",
              "    </g>\n",
              "</svg>\n",
              "  </button>\n",
              "\n",
              "<style>\n",
              "  .colab-df-quickchart {\n",
              "      --bg-color: #E8F0FE;\n",
              "      --fill-color: #1967D2;\n",
              "      --hover-bg-color: #E2EBFA;\n",
              "      --hover-fill-color: #174EA6;\n",
              "      --disabled-fill-color: #AAA;\n",
              "      --disabled-bg-color: #DDD;\n",
              "  }\n",
              "\n",
              "  [theme=dark] .colab-df-quickchart {\n",
              "      --bg-color: #3B4455;\n",
              "      --fill-color: #D2E3FC;\n",
              "      --hover-bg-color: #434B5C;\n",
              "      --hover-fill-color: #FFFFFF;\n",
              "      --disabled-bg-color: #3B4455;\n",
              "      --disabled-fill-color: #666;\n",
              "  }\n",
              "\n",
              "  .colab-df-quickchart {\n",
              "    background-color: var(--bg-color);\n",
              "    border: none;\n",
              "    border-radius: 50%;\n",
              "    cursor: pointer;\n",
              "    display: none;\n",
              "    fill: var(--fill-color);\n",
              "    height: 32px;\n",
              "    padding: 0;\n",
              "    width: 32px;\n",
              "  }\n",
              "\n",
              "  .colab-df-quickchart:hover {\n",
              "    background-color: var(--hover-bg-color);\n",
              "    box-shadow: 0 1px 2px rgba(60, 64, 67, 0.3), 0 1px 3px 1px rgba(60, 64, 67, 0.15);\n",
              "    fill: var(--button-hover-fill-color);\n",
              "  }\n",
              "\n",
              "  .colab-df-quickchart-complete:disabled,\n",
              "  .colab-df-quickchart-complete:disabled:hover {\n",
              "    background-color: var(--disabled-bg-color);\n",
              "    fill: var(--disabled-fill-color);\n",
              "    box-shadow: none;\n",
              "  }\n",
              "\n",
              "  .colab-df-spinner {\n",
              "    border: 2px solid var(--fill-color);\n",
              "    border-color: transparent;\n",
              "    border-bottom-color: var(--fill-color);\n",
              "    animation:\n",
              "      spin 1s steps(1) infinite;\n",
              "  }\n",
              "\n",
              "  @keyframes spin {\n",
              "    0% {\n",
              "      border-color: transparent;\n",
              "      border-bottom-color: var(--fill-color);\n",
              "      border-left-color: var(--fill-color);\n",
              "    }\n",
              "    20% {\n",
              "      border-color: transparent;\n",
              "      border-left-color: var(--fill-color);\n",
              "      border-top-color: var(--fill-color);\n",
              "    }\n",
              "    30% {\n",
              "      border-color: transparent;\n",
              "      border-left-color: var(--fill-color);\n",
              "      border-top-color: var(--fill-color);\n",
              "      border-right-color: var(--fill-color);\n",
              "    }\n",
              "    40% {\n",
              "      border-color: transparent;\n",
              "      border-right-color: var(--fill-color);\n",
              "      border-top-color: var(--fill-color);\n",
              "    }\n",
              "    60% {\n",
              "      border-color: transparent;\n",
              "      border-right-color: var(--fill-color);\n",
              "    }\n",
              "    80% {\n",
              "      border-color: transparent;\n",
              "      border-right-color: var(--fill-color);\n",
              "      border-bottom-color: var(--fill-color);\n",
              "    }\n",
              "    90% {\n",
              "      border-color: transparent;\n",
              "      border-bottom-color: var(--fill-color);\n",
              "    }\n",
              "  }\n",
              "</style>\n",
              "\n",
              "  <script>\n",
              "    async function quickchart(key) {\n",
              "      const quickchartButtonEl =\n",
              "        document.querySelector('#' + key + ' button');\n",
              "      quickchartButtonEl.disabled = true;  // To prevent multiple clicks.\n",
              "      quickchartButtonEl.classList.add('colab-df-spinner');\n",
              "      try {\n",
              "        const charts = await google.colab.kernel.invokeFunction(\n",
              "            'suggestCharts', [key], {});\n",
              "      } catch (error) {\n",
              "        console.error('Error during call to suggestCharts:', error);\n",
              "      }\n",
              "      quickchartButtonEl.classList.remove('colab-df-spinner');\n",
              "      quickchartButtonEl.classList.add('colab-df-quickchart-complete');\n",
              "    }\n",
              "    (() => {\n",
              "      let quickchartButtonEl =\n",
              "        document.querySelector('#df-ae97b152-9439-4b9f-90dd-8f3a2dcd8264 button');\n",
              "      quickchartButtonEl.style.display =\n",
              "        google.colab.kernel.accessAllowed ? 'block' : 'none';\n",
              "    })();\n",
              "  </script>\n",
              "</div>\n",
              "    </div>\n",
              "  </div>\n"
            ]
          },
          "metadata": {},
          "execution_count": 42
        }
      ]
    },
    {
      "cell_type": "code",
      "source": [
        "# Preprocessing\n",
        "\n",
        "# LabelEncoders defined to encode user_id and book_id. This converts categorical id to numeric id\n",
        "user_encoder = LabelEncoder()\n",
        "book_encoder = LabelEncoder()\n",
        "\n",
        "ratings['user_id'] = user_encoder.fit_transform(ratings['user_id'])\n",
        "ratings['book_id'] = book_encoder.fit_transform(ratings['book_id'])"
      ],
      "metadata": {
        "id": "hyF3_Cl_ke6c"
      },
      "execution_count": null,
      "outputs": []
    },
    {
      "cell_type": "code",
      "source": [
        "ratings"
      ],
      "metadata": {
        "colab": {
          "base_uri": "https://localhost:8080/",
          "height": 424
        },
        "id": "2UDGNBOfgjTL",
        "outputId": "9f5e03dc-a617-414f-caeb-137361b3f59c"
      },
      "execution_count": null,
      "outputs": [
        {
          "output_type": "execute_result",
          "data": {
            "text/plain": [
              "       user_id  book_id  rating\n",
              "12           1       52       4\n",
              "15           1       12       5\n",
              "16           1       20       5\n",
              "17           1       14       5\n",
              "18           1        0       5\n",
              "...        ...      ...     ...\n",
              "26795      373       56       3\n",
              "26798      373       38       2\n",
              "26799      376       19       3\n",
              "26802      376       23       4\n",
              "26803      376       60       4\n",
              "\n",
              "[4000 rows x 3 columns]"
            ],
            "text/html": [
              "\n",
              "  <div id=\"df-6c28d781-e5af-43dd-9ce3-cf04c49add15\" class=\"colab-df-container\">\n",
              "    <div>\n",
              "<style scoped>\n",
              "    .dataframe tbody tr th:only-of-type {\n",
              "        vertical-align: middle;\n",
              "    }\n",
              "\n",
              "    .dataframe tbody tr th {\n",
              "        vertical-align: top;\n",
              "    }\n",
              "\n",
              "    .dataframe thead th {\n",
              "        text-align: right;\n",
              "    }\n",
              "</style>\n",
              "<table border=\"1\" class=\"dataframe\">\n",
              "  <thead>\n",
              "    <tr style=\"text-align: right;\">\n",
              "      <th></th>\n",
              "      <th>user_id</th>\n",
              "      <th>book_id</th>\n",
              "      <th>rating</th>\n",
              "    </tr>\n",
              "  </thead>\n",
              "  <tbody>\n",
              "    <tr>\n",
              "      <th>12</th>\n",
              "      <td>1</td>\n",
              "      <td>52</td>\n",
              "      <td>4</td>\n",
              "    </tr>\n",
              "    <tr>\n",
              "      <th>15</th>\n",
              "      <td>1</td>\n",
              "      <td>12</td>\n",
              "      <td>5</td>\n",
              "    </tr>\n",
              "    <tr>\n",
              "      <th>16</th>\n",
              "      <td>1</td>\n",
              "      <td>20</td>\n",
              "      <td>5</td>\n",
              "    </tr>\n",
              "    <tr>\n",
              "      <th>17</th>\n",
              "      <td>1</td>\n",
              "      <td>14</td>\n",
              "      <td>5</td>\n",
              "    </tr>\n",
              "    <tr>\n",
              "      <th>18</th>\n",
              "      <td>1</td>\n",
              "      <td>0</td>\n",
              "      <td>5</td>\n",
              "    </tr>\n",
              "    <tr>\n",
              "      <th>...</th>\n",
              "      <td>...</td>\n",
              "      <td>...</td>\n",
              "      <td>...</td>\n",
              "    </tr>\n",
              "    <tr>\n",
              "      <th>26795</th>\n",
              "      <td>373</td>\n",
              "      <td>56</td>\n",
              "      <td>3</td>\n",
              "    </tr>\n",
              "    <tr>\n",
              "      <th>26798</th>\n",
              "      <td>373</td>\n",
              "      <td>38</td>\n",
              "      <td>2</td>\n",
              "    </tr>\n",
              "    <tr>\n",
              "      <th>26799</th>\n",
              "      <td>376</td>\n",
              "      <td>19</td>\n",
              "      <td>3</td>\n",
              "    </tr>\n",
              "    <tr>\n",
              "      <th>26802</th>\n",
              "      <td>376</td>\n",
              "      <td>23</td>\n",
              "      <td>4</td>\n",
              "    </tr>\n",
              "    <tr>\n",
              "      <th>26803</th>\n",
              "      <td>376</td>\n",
              "      <td>60</td>\n",
              "      <td>4</td>\n",
              "    </tr>\n",
              "  </tbody>\n",
              "</table>\n",
              "<p>4000 rows × 3 columns</p>\n",
              "</div>\n",
              "    <div class=\"colab-df-buttons\">\n",
              "\n",
              "  <div class=\"colab-df-container\">\n",
              "    <button class=\"colab-df-convert\" onclick=\"convertToInteractive('df-6c28d781-e5af-43dd-9ce3-cf04c49add15')\"\n",
              "            title=\"Convert this dataframe to an interactive table.\"\n",
              "            style=\"display:none;\">\n",
              "\n",
              "  <svg xmlns=\"http://www.w3.org/2000/svg\" height=\"24px\" viewBox=\"0 -960 960 960\">\n",
              "    <path d=\"M120-120v-720h720v720H120Zm60-500h600v-160H180v160Zm220 220h160v-160H400v160Zm0 220h160v-160H400v160ZM180-400h160v-160H180v160Zm440 0h160v-160H620v160ZM180-180h160v-160H180v160Zm440 0h160v-160H620v160Z\"/>\n",
              "  </svg>\n",
              "    </button>\n",
              "\n",
              "  <style>\n",
              "    .colab-df-container {\n",
              "      display:flex;\n",
              "      gap: 12px;\n",
              "    }\n",
              "\n",
              "    .colab-df-convert {\n",
              "      background-color: #E8F0FE;\n",
              "      border: none;\n",
              "      border-radius: 50%;\n",
              "      cursor: pointer;\n",
              "      display: none;\n",
              "      fill: #1967D2;\n",
              "      height: 32px;\n",
              "      padding: 0 0 0 0;\n",
              "      width: 32px;\n",
              "    }\n",
              "\n",
              "    .colab-df-convert:hover {\n",
              "      background-color: #E2EBFA;\n",
              "      box-shadow: 0px 1px 2px rgba(60, 64, 67, 0.3), 0px 1px 3px 1px rgba(60, 64, 67, 0.15);\n",
              "      fill: #174EA6;\n",
              "    }\n",
              "\n",
              "    .colab-df-buttons div {\n",
              "      margin-bottom: 4px;\n",
              "    }\n",
              "\n",
              "    [theme=dark] .colab-df-convert {\n",
              "      background-color: #3B4455;\n",
              "      fill: #D2E3FC;\n",
              "    }\n",
              "\n",
              "    [theme=dark] .colab-df-convert:hover {\n",
              "      background-color: #434B5C;\n",
              "      box-shadow: 0px 1px 3px 1px rgba(0, 0, 0, 0.15);\n",
              "      filter: drop-shadow(0px 1px 2px rgba(0, 0, 0, 0.3));\n",
              "      fill: #FFFFFF;\n",
              "    }\n",
              "  </style>\n",
              "\n",
              "    <script>\n",
              "      const buttonEl =\n",
              "        document.querySelector('#df-6c28d781-e5af-43dd-9ce3-cf04c49add15 button.colab-df-convert');\n",
              "      buttonEl.style.display =\n",
              "        google.colab.kernel.accessAllowed ? 'block' : 'none';\n",
              "\n",
              "      async function convertToInteractive(key) {\n",
              "        const element = document.querySelector('#df-6c28d781-e5af-43dd-9ce3-cf04c49add15');\n",
              "        const dataTable =\n",
              "          await google.colab.kernel.invokeFunction('convertToInteractive',\n",
              "                                                    [key], {});\n",
              "        if (!dataTable) return;\n",
              "\n",
              "        const docLinkHtml = 'Like what you see? Visit the ' +\n",
              "          '<a target=\"_blank\" href=https://colab.research.google.com/notebooks/data_table.ipynb>data table notebook</a>'\n",
              "          + ' to learn more about interactive tables.';\n",
              "        element.innerHTML = '';\n",
              "        dataTable['output_type'] = 'display_data';\n",
              "        await google.colab.output.renderOutput(dataTable, element);\n",
              "        const docLink = document.createElement('div');\n",
              "        docLink.innerHTML = docLinkHtml;\n",
              "        element.appendChild(docLink);\n",
              "      }\n",
              "    </script>\n",
              "  </div>\n",
              "\n",
              "\n",
              "<div id=\"df-49d9da5a-b9b2-43e7-b046-09708d013b03\">\n",
              "  <button class=\"colab-df-quickchart\" onclick=\"quickchart('df-49d9da5a-b9b2-43e7-b046-09708d013b03')\"\n",
              "            title=\"Suggest charts.\"\n",
              "            style=\"display:none;\">\n",
              "\n",
              "<svg xmlns=\"http://www.w3.org/2000/svg\" height=\"24px\"viewBox=\"0 0 24 24\"\n",
              "     width=\"24px\">\n",
              "    <g>\n",
              "        <path d=\"M19 3H5c-1.1 0-2 .9-2 2v14c0 1.1.9 2 2 2h14c1.1 0 2-.9 2-2V5c0-1.1-.9-2-2-2zM9 17H7v-7h2v7zm4 0h-2V7h2v10zm4 0h-2v-4h2v4z\"/>\n",
              "    </g>\n",
              "</svg>\n",
              "  </button>\n",
              "\n",
              "<style>\n",
              "  .colab-df-quickchart {\n",
              "      --bg-color: #E8F0FE;\n",
              "      --fill-color: #1967D2;\n",
              "      --hover-bg-color: #E2EBFA;\n",
              "      --hover-fill-color: #174EA6;\n",
              "      --disabled-fill-color: #AAA;\n",
              "      --disabled-bg-color: #DDD;\n",
              "  }\n",
              "\n",
              "  [theme=dark] .colab-df-quickchart {\n",
              "      --bg-color: #3B4455;\n",
              "      --fill-color: #D2E3FC;\n",
              "      --hover-bg-color: #434B5C;\n",
              "      --hover-fill-color: #FFFFFF;\n",
              "      --disabled-bg-color: #3B4455;\n",
              "      --disabled-fill-color: #666;\n",
              "  }\n",
              "\n",
              "  .colab-df-quickchart {\n",
              "    background-color: var(--bg-color);\n",
              "    border: none;\n",
              "    border-radius: 50%;\n",
              "    cursor: pointer;\n",
              "    display: none;\n",
              "    fill: var(--fill-color);\n",
              "    height: 32px;\n",
              "    padding: 0;\n",
              "    width: 32px;\n",
              "  }\n",
              "\n",
              "  .colab-df-quickchart:hover {\n",
              "    background-color: var(--hover-bg-color);\n",
              "    box-shadow: 0 1px 2px rgba(60, 64, 67, 0.3), 0 1px 3px 1px rgba(60, 64, 67, 0.15);\n",
              "    fill: var(--button-hover-fill-color);\n",
              "  }\n",
              "\n",
              "  .colab-df-quickchart-complete:disabled,\n",
              "  .colab-df-quickchart-complete:disabled:hover {\n",
              "    background-color: var(--disabled-bg-color);\n",
              "    fill: var(--disabled-fill-color);\n",
              "    box-shadow: none;\n",
              "  }\n",
              "\n",
              "  .colab-df-spinner {\n",
              "    border: 2px solid var(--fill-color);\n",
              "    border-color: transparent;\n",
              "    border-bottom-color: var(--fill-color);\n",
              "    animation:\n",
              "      spin 1s steps(1) infinite;\n",
              "  }\n",
              "\n",
              "  @keyframes spin {\n",
              "    0% {\n",
              "      border-color: transparent;\n",
              "      border-bottom-color: var(--fill-color);\n",
              "      border-left-color: var(--fill-color);\n",
              "    }\n",
              "    20% {\n",
              "      border-color: transparent;\n",
              "      border-left-color: var(--fill-color);\n",
              "      border-top-color: var(--fill-color);\n",
              "    }\n",
              "    30% {\n",
              "      border-color: transparent;\n",
              "      border-left-color: var(--fill-color);\n",
              "      border-top-color: var(--fill-color);\n",
              "      border-right-color: var(--fill-color);\n",
              "    }\n",
              "    40% {\n",
              "      border-color: transparent;\n",
              "      border-right-color: var(--fill-color);\n",
              "      border-top-color: var(--fill-color);\n",
              "    }\n",
              "    60% {\n",
              "      border-color: transparent;\n",
              "      border-right-color: var(--fill-color);\n",
              "    }\n",
              "    80% {\n",
              "      border-color: transparent;\n",
              "      border-right-color: var(--fill-color);\n",
              "      border-bottom-color: var(--fill-color);\n",
              "    }\n",
              "    90% {\n",
              "      border-color: transparent;\n",
              "      border-bottom-color: var(--fill-color);\n",
              "    }\n",
              "  }\n",
              "</style>\n",
              "\n",
              "  <script>\n",
              "    async function quickchart(key) {\n",
              "      const quickchartButtonEl =\n",
              "        document.querySelector('#' + key + ' button');\n",
              "      quickchartButtonEl.disabled = true;  // To prevent multiple clicks.\n",
              "      quickchartButtonEl.classList.add('colab-df-spinner');\n",
              "      try {\n",
              "        const charts = await google.colab.kernel.invokeFunction(\n",
              "            'suggestCharts', [key], {});\n",
              "      } catch (error) {\n",
              "        console.error('Error during call to suggestCharts:', error);\n",
              "      }\n",
              "      quickchartButtonEl.classList.remove('colab-df-spinner');\n",
              "      quickchartButtonEl.classList.add('colab-df-quickchart-complete');\n",
              "    }\n",
              "    (() => {\n",
              "      let quickchartButtonEl =\n",
              "        document.querySelector('#df-49d9da5a-b9b2-43e7-b046-09708d013b03 button');\n",
              "      quickchartButtonEl.style.display =\n",
              "        google.colab.kernel.accessAllowed ? 'block' : 'none';\n",
              "    })();\n",
              "  </script>\n",
              "</div>\n",
              "    </div>\n",
              "  </div>\n"
            ]
          },
          "metadata": {},
          "execution_count": 35
        }
      ]
    },
    {
      "cell_type": "code",
      "source": [
        "num_users = len(user_encoder.classes_)\n",
        "num_books = len(book_encoder.classes_)"
      ],
      "metadata": {
        "id": "pyaT0f4Bkl23"
      },
      "execution_count": null,
      "outputs": []
    },
    {
      "cell_type": "code",
      "source": [
        "num_books"
      ],
      "metadata": {
        "colab": {
          "base_uri": "https://localhost:8080/"
        },
        "id": "Gb44dj49fLU9",
        "outputId": "fa302741-7f55-41ba-f07a-1ffe6d5fbfcb"
      },
      "execution_count": null,
      "outputs": [
        {
          "output_type": "execute_result",
          "data": {
            "text/plain": [
              "77"
            ]
          },
          "metadata": {},
          "execution_count": 15
        }
      ]
    },
    {
      "cell_type": "code",
      "source": [
        "# Train-test split\n",
        "train_df, test_df = train_test_split(ratings, test_size=0.2, random_state=42)"
      ],
      "metadata": {
        "id": "AtJwztW8koMj"
      },
      "execution_count": null,
      "outputs": []
    },
    {
      "cell_type": "code",
      "source": [
        "# Model\n",
        "class BookRecommendationModel(nn.Module):\n",
        "    def __init__(self, num_users, num_books, embedding_dim):\n",
        "        super(BookRecommendationModel, self).__init__()\n",
        "        self.user_embedding = nn.Embedding(num_users, embedding_dim)\n",
        "        self.book_embedding = nn.Embedding(num_books, embedding_dim)\n",
        "        self.fc = nn.Linear(embedding_dim, 1)  # Remove multiplication by 2 in input size\n",
        "\n",
        "        # print(\"user_embedding: \",self.user_embedding)\n",
        "        # print(\"book_embedding: \",self.book_embedding)\n",
        "\n",
        "    def forward(self, user_ids, book_ids):\n",
        "        user_embedded = self.user_embedding(user_ids)\n",
        "        book_embedded = self.book_embedding(book_ids)\n",
        "\n",
        "        # print(\"user_embedded: \",user_embedded.shape)\n",
        "        # print(\"book_embedded: \",book_embedded.shape)\n",
        "        # Element-wise multiplication of embeddings\n",
        "        combined = user_embedded * book_embedded\n",
        "\n",
        "        # print(\"combined: \",combined.shape)\n",
        "\n",
        "        prediction = self.fc(combined)\n",
        "\n",
        "        # print(\"predictions: \",prediction)\n",
        "        return prediction\n"
      ],
      "metadata": {
        "id": "Uybx80ytksfJ"
      },
      "execution_count": null,
      "outputs": []
    },
    {
      "cell_type": "code",
      "source": [
        "from google.colab import files\n",
        "\n",
        "# Upload the saved model file from your local machine to Colab\n",
        "uploaded = files.upload()\n",
        "\n",
        "loaded_model = torch.load('book_recommendation_model_4L.pth')\n",
        "\n",
        "# Ensure the loaded model is in evaluation mode (if needed)\n",
        "loaded_model.eval()\n",
        "\n",
        "# You can now use the loaded_model for inference or further training\n"
      ],
      "metadata": {
        "colab": {
          "base_uri": "https://localhost:8080/",
          "height": 163
        },
        "id": "Vsmw-PwRQnlX",
        "outputId": "b87cad83-a8db-42b8-a36b-cae8327e0687"
      },
      "execution_count": null,
      "outputs": [
        {
          "output_type": "display_data",
          "data": {
            "text/plain": [
              "<IPython.core.display.HTML object>"
            ],
            "text/html": [
              "\n",
              "     <input type=\"file\" id=\"files-c1cb67cb-d4d8-4219-a802-efc480d513cc\" name=\"files[]\" multiple disabled\n",
              "        style=\"border:none\" />\n",
              "     <output id=\"result-c1cb67cb-d4d8-4219-a802-efc480d513cc\">\n",
              "      Upload widget is only available when the cell has been executed in the\n",
              "      current browser session. Please rerun this cell to enable.\n",
              "      </output>\n",
              "      <script>// Copyright 2017 Google LLC\n",
              "//\n",
              "// Licensed under the Apache License, Version 2.0 (the \"License\");\n",
              "// you may not use this file except in compliance with the License.\n",
              "// You may obtain a copy of the License at\n",
              "//\n",
              "//      http://www.apache.org/licenses/LICENSE-2.0\n",
              "//\n",
              "// Unless required by applicable law or agreed to in writing, software\n",
              "// distributed under the License is distributed on an \"AS IS\" BASIS,\n",
              "// WITHOUT WARRANTIES OR CONDITIONS OF ANY KIND, either express or implied.\n",
              "// See the License for the specific language governing permissions and\n",
              "// limitations under the License.\n",
              "\n",
              "/**\n",
              " * @fileoverview Helpers for google.colab Python module.\n",
              " */\n",
              "(function(scope) {\n",
              "function span(text, styleAttributes = {}) {\n",
              "  const element = document.createElement('span');\n",
              "  element.textContent = text;\n",
              "  for (const key of Object.keys(styleAttributes)) {\n",
              "    element.style[key] = styleAttributes[key];\n",
              "  }\n",
              "  return element;\n",
              "}\n",
              "\n",
              "// Max number of bytes which will be uploaded at a time.\n",
              "const MAX_PAYLOAD_SIZE = 100 * 1024;\n",
              "\n",
              "function _uploadFiles(inputId, outputId) {\n",
              "  const steps = uploadFilesStep(inputId, outputId);\n",
              "  const outputElement = document.getElementById(outputId);\n",
              "  // Cache steps on the outputElement to make it available for the next call\n",
              "  // to uploadFilesContinue from Python.\n",
              "  outputElement.steps = steps;\n",
              "\n",
              "  return _uploadFilesContinue(outputId);\n",
              "}\n",
              "\n",
              "// This is roughly an async generator (not supported in the browser yet),\n",
              "// where there are multiple asynchronous steps and the Python side is going\n",
              "// to poll for completion of each step.\n",
              "// This uses a Promise to block the python side on completion of each step,\n",
              "// then passes the result of the previous step as the input to the next step.\n",
              "function _uploadFilesContinue(outputId) {\n",
              "  const outputElement = document.getElementById(outputId);\n",
              "  const steps = outputElement.steps;\n",
              "\n",
              "  const next = steps.next(outputElement.lastPromiseValue);\n",
              "  return Promise.resolve(next.value.promise).then((value) => {\n",
              "    // Cache the last promise value to make it available to the next\n",
              "    // step of the generator.\n",
              "    outputElement.lastPromiseValue = value;\n",
              "    return next.value.response;\n",
              "  });\n",
              "}\n",
              "\n",
              "/**\n",
              " * Generator function which is called between each async step of the upload\n",
              " * process.\n",
              " * @param {string} inputId Element ID of the input file picker element.\n",
              " * @param {string} outputId Element ID of the output display.\n",
              " * @return {!Iterable<!Object>} Iterable of next steps.\n",
              " */\n",
              "function* uploadFilesStep(inputId, outputId) {\n",
              "  const inputElement = document.getElementById(inputId);\n",
              "  inputElement.disabled = false;\n",
              "\n",
              "  const outputElement = document.getElementById(outputId);\n",
              "  outputElement.innerHTML = '';\n",
              "\n",
              "  const pickedPromise = new Promise((resolve) => {\n",
              "    inputElement.addEventListener('change', (e) => {\n",
              "      resolve(e.target.files);\n",
              "    });\n",
              "  });\n",
              "\n",
              "  const cancel = document.createElement('button');\n",
              "  inputElement.parentElement.appendChild(cancel);\n",
              "  cancel.textContent = 'Cancel upload';\n",
              "  const cancelPromise = new Promise((resolve) => {\n",
              "    cancel.onclick = () => {\n",
              "      resolve(null);\n",
              "    };\n",
              "  });\n",
              "\n",
              "  // Wait for the user to pick the files.\n",
              "  const files = yield {\n",
              "    promise: Promise.race([pickedPromise, cancelPromise]),\n",
              "    response: {\n",
              "      action: 'starting',\n",
              "    }\n",
              "  };\n",
              "\n",
              "  cancel.remove();\n",
              "\n",
              "  // Disable the input element since further picks are not allowed.\n",
              "  inputElement.disabled = true;\n",
              "\n",
              "  if (!files) {\n",
              "    return {\n",
              "      response: {\n",
              "        action: 'complete',\n",
              "      }\n",
              "    };\n",
              "  }\n",
              "\n",
              "  for (const file of files) {\n",
              "    const li = document.createElement('li');\n",
              "    li.append(span(file.name, {fontWeight: 'bold'}));\n",
              "    li.append(span(\n",
              "        `(${file.type || 'n/a'}) - ${file.size} bytes, ` +\n",
              "        `last modified: ${\n",
              "            file.lastModifiedDate ? file.lastModifiedDate.toLocaleDateString() :\n",
              "                                    'n/a'} - `));\n",
              "    const percent = span('0% done');\n",
              "    li.appendChild(percent);\n",
              "\n",
              "    outputElement.appendChild(li);\n",
              "\n",
              "    const fileDataPromise = new Promise((resolve) => {\n",
              "      const reader = new FileReader();\n",
              "      reader.onload = (e) => {\n",
              "        resolve(e.target.result);\n",
              "      };\n",
              "      reader.readAsArrayBuffer(file);\n",
              "    });\n",
              "    // Wait for the data to be ready.\n",
              "    let fileData = yield {\n",
              "      promise: fileDataPromise,\n",
              "      response: {\n",
              "        action: 'continue',\n",
              "      }\n",
              "    };\n",
              "\n",
              "    // Use a chunked sending to avoid message size limits. See b/62115660.\n",
              "    let position = 0;\n",
              "    do {\n",
              "      const length = Math.min(fileData.byteLength - position, MAX_PAYLOAD_SIZE);\n",
              "      const chunk = new Uint8Array(fileData, position, length);\n",
              "      position += length;\n",
              "\n",
              "      const base64 = btoa(String.fromCharCode.apply(null, chunk));\n",
              "      yield {\n",
              "        response: {\n",
              "          action: 'append',\n",
              "          file: file.name,\n",
              "          data: base64,\n",
              "        },\n",
              "      };\n",
              "\n",
              "      let percentDone = fileData.byteLength === 0 ?\n",
              "          100 :\n",
              "          Math.round((position / fileData.byteLength) * 100);\n",
              "      percent.textContent = `${percentDone}% done`;\n",
              "\n",
              "    } while (position < fileData.byteLength);\n",
              "  }\n",
              "\n",
              "  // All done.\n",
              "  yield {\n",
              "    response: {\n",
              "      action: 'complete',\n",
              "    }\n",
              "  };\n",
              "}\n",
              "\n",
              "scope.google = scope.google || {};\n",
              "scope.google.colab = scope.google.colab || {};\n",
              "scope.google.colab._files = {\n",
              "  _uploadFiles,\n",
              "  _uploadFilesContinue,\n",
              "};\n",
              "})(self);\n",
              "</script> "
            ]
          },
          "metadata": {}
        },
        {
          "output_type": "stream",
          "name": "stdout",
          "text": [
            "Saving book_recommendation_model_4L.pth to book_recommendation_model_4L (2).pth\n"
          ]
        },
        {
          "output_type": "execute_result",
          "data": {
            "text/plain": [
              "BookRecommendationModel(\n",
              "  (user_embedding): Embedding(23238, 32)\n",
              "  (book_embedding): Embedding(76, 32)\n",
              "  (fc): Linear(in_features=32, out_features=1, bias=True)\n",
              ")"
            ]
          },
          "metadata": {},
          "execution_count": 15
        }
      ]
    },
    {
      "cell_type": "code",
      "source": [
        "model = loaded_model"
      ],
      "metadata": {
        "id": "77ecz_ElSQ_b"
      },
      "execution_count": null,
      "outputs": []
    },
    {
      "cell_type": "code",
      "source": [
        "# Training\n",
        "embedding_dim = 32\n",
        "model = BookRecommendationModel(num_users, num_books, embedding_dim)\n",
        "criterion = nn.MSELoss()\n",
        "optimizer = optim.Adam(model.parameters(), lr=0.001)\n",
        "\n",
        "num_epochs = 3\n",
        "for epoch in range(num_epochs):\n",
        "    model.train()\n",
        "    train_loss = 0.0\n",
        "    for _, row in train_df.iterrows():\n",
        "        user_id = torch.LongTensor([row['user_id']])\n",
        "        book_id = torch.LongTensor([row['book_id']])\n",
        "        rating = torch.FloatTensor([row['rating']])\n",
        "\n",
        "        # print(user_id,\" \",book_id,\" \",rating)\n",
        "        optimizer.zero_grad()\n",
        "        prediction = model(user_id, book_id)\n",
        "        loss = criterion(prediction, rating)\n",
        "        loss.backward()\n",
        "        optimizer.step()\n",
        "\n",
        "        train_loss += loss.item()\n",
        "\n",
        "    train_loss /= len(train_df)\n",
        "    print(f\"Epoch {epoch+1}/{num_epochs}, Train Loss: {train_loss:.4f}\")"
      ],
      "metadata": {
        "colab": {
          "base_uri": "https://localhost:8080/"
        },
        "id": "PBqwZFMQkxwo",
        "outputId": "f919e148-846b-4cb9-d743-ecd798e194cc"
      },
      "execution_count": null,
      "outputs": [
        {
          "output_type": "stream",
          "name": "stderr",
          "text": [
            "/usr/local/lib/python3.10/dist-packages/torch/nn/modules/loss.py:536: UserWarning: Using a target size (torch.Size([1])) that is different to the input size (torch.Size([1, 1])). This will likely lead to incorrect results due to broadcasting. Please ensure they have the same size.\n",
            "  return F.mse_loss(input, target, reduction=self.reduction)\n"
          ]
        },
        {
          "output_type": "stream",
          "name": "stdout",
          "text": [
            "Epoch 1/3, Train Loss: 1.1827\n",
            "Epoch 2/3, Train Loss: 1.0816\n",
            "Epoch 3/3, Train Loss: 1.0532\n"
          ]
        }
      ]
    },
    {
      "cell_type": "code",
      "source": [
        "# Training\n",
        "embedding_dim = 32\n",
        "model = BookRecommendationModel(num_users, num_books, embedding_dim)\n",
        "criterion = nn.MSELoss()\n",
        "optimizer = optim.Adam(model.parameters(), lr=0.005)\n",
        "\n",
        "num_epochs = 5\n",
        "for epoch in range(num_epochs):\n",
        "    model.train()\n",
        "    train_loss = 0.0\n",
        "    for _, row in train_df.iterrows():\n",
        "        user_id = torch.LongTensor([row['user_id']])\n",
        "        book_id = torch.LongTensor([row['book_id']])\n",
        "        rating = torch.FloatTensor([row['rating']])\n",
        "\n",
        "        # print(user_id,\" \",book_id,\" \",rating)\n",
        "        optimizer.zero_grad()\n",
        "        prediction = model(user_id, book_id)\n",
        "        loss = criterion(prediction, rating)\n",
        "        loss.backward()\n",
        "        optimizer.step()\n",
        "\n",
        "        train_loss += loss.item()\n",
        "\n",
        "    train_loss /= len(train_df)\n",
        "    print(f\"Epoch {epoch+1}/{num_epochs}, Train Loss: {train_loss:.4f}\")"
      ],
      "metadata": {
        "colab": {
          "base_uri": "https://localhost:8080/"
        },
        "id": "pJb2t3Jke-WQ",
        "outputId": "ad337b8a-2f41-4e6a-e86e-26e15f52aa88"
      },
      "execution_count": null,
      "outputs": [
        {
          "output_type": "stream",
          "name": "stderr",
          "text": [
            "/usr/local/lib/python3.10/dist-packages/torch/nn/modules/loss.py:536: UserWarning: Using a target size (torch.Size([1])) that is different to the input size (torch.Size([1, 1])). This will likely lead to incorrect results due to broadcasting. Please ensure they have the same size.\n",
            "  return F.mse_loss(input, target, reduction=self.reduction)\n"
          ]
        },
        {
          "output_type": "stream",
          "name": "stdout",
          "text": [
            "Epoch 1/5, Train Loss: 1.2277\n",
            "Epoch 2/5, Train Loss: 0.9079\n",
            "Epoch 3/5, Train Loss: 0.7265\n",
            "Epoch 4/5, Train Loss: 0.6124\n",
            "Epoch 5/5, Train Loss: 0.5435\n"
          ]
        }
      ]
    },
    {
      "cell_type": "code",
      "source": [
        "# Testing\n",
        "model.eval()\n",
        "test_loss = 0.0\n",
        "predictions = []\n",
        "with torch.no_grad():\n",
        "    for _, row in test_df.iterrows():\n",
        "        user_id = torch.LongTensor([row['user_id']])\n",
        "        book_id = torch.LongTensor([row['book_id']])\n",
        "        rating = torch.FloatTensor([row['rating']])\n",
        "\n",
        "        prediction = model(user_id, book_id)\n",
        "        loss = criterion(prediction, rating)\n",
        "        test_loss += loss.item()\n",
        "        predictions.append(prediction.numpy()[0])\n",
        "\n",
        "test_loss /= len(test_df)\n",
        "rmse = np.sqrt(mean_squared_error(test_df['rating'], predictions))\n",
        "mae = mean_absolute_error(test_df['rating'], predictions)\n",
        "print(f\"Test RMSE: {rmse:.4f}\")\n",
        "print(f\"Test MAE: {mae:.4f}\")"
      ],
      "metadata": {
        "colab": {
          "base_uri": "https://localhost:8080/"
        },
        "id": "uvYZQFQe05su",
        "outputId": "e3037cf6-2df8-4cf5-cba5-d2a727cdf805"
      },
      "execution_count": null,
      "outputs": [
        {
          "output_type": "stream",
          "name": "stdout",
          "text": [
            "Test RMSE: 1.3136\n",
            "Test MAE: 1.0434\n"
          ]
        }
      ]
    },
    {
      "cell_type": "code",
      "source": [
        "model.eval()"
      ],
      "metadata": {
        "colab": {
          "base_uri": "https://localhost:8080/"
        },
        "id": "D181wBonRL9B",
        "outputId": "d11e5aef-cb53-45dc-c92d-5ce96728054c"
      },
      "execution_count": null,
      "outputs": [
        {
          "output_type": "execute_result",
          "data": {
            "text/plain": [
              "BookRecommendationModel(\n",
              "  (user_embedding): Embedding(23238, 32)\n",
              "  (book_embedding): Embedding(76, 32)\n",
              "  (fc): Linear(in_features=32, out_features=1, bias=True)\n",
              ")"
            ]
          },
          "metadata": {},
          "execution_count": 17
        }
      ]
    },
    {
      "cell_type": "code",
      "source": [
        "import os\n",
        "\n",
        "# Get the current working directory\n",
        "current_directory = os.getcwd()\n",
        "\n",
        "# Print the current working directory\n",
        "print(current_directory)\n"
      ],
      "metadata": {
        "colab": {
          "base_uri": "https://localhost:8080/"
        },
        "id": "omztMaK_40uW",
        "outputId": "3bc06d23-9730-4b41-aaa9-302374600eec"
      },
      "execution_count": null,
      "outputs": [
        {
          "output_type": "stream",
          "name": "stdout",
          "text": [
            "/content\n"
          ]
        }
      ]
    },
    {
      "cell_type": "code",
      "source": [
        "# Saving the entire model\n",
        "torch.save(model, 'book_recommendation_model_4L.pth')"
      ],
      "metadata": {
        "id": "NqEmKm2P4QIa"
      },
      "execution_count": null,
      "outputs": []
    },
    {
      "cell_type": "code",
      "source": [
        "from google.colab import files\n",
        "# Download the saved model file\n",
        "files.download('book_recommendation_model_4L.pth')"
      ],
      "metadata": {
        "colab": {
          "base_uri": "https://localhost:8080/",
          "height": 17
        },
        "id": "iAsJ7ekv6uic",
        "outputId": "ef83e6cd-119e-46c2-811c-4df9b49048d9"
      },
      "execution_count": null,
      "outputs": [
        {
          "output_type": "display_data",
          "data": {
            "text/plain": [
              "<IPython.core.display.Javascript object>"
            ],
            "application/javascript": [
              "\n",
              "    async function download(id, filename, size) {\n",
              "      if (!google.colab.kernel.accessAllowed) {\n",
              "        return;\n",
              "      }\n",
              "      const div = document.createElement('div');\n",
              "      const label = document.createElement('label');\n",
              "      label.textContent = `Downloading \"${filename}\": `;\n",
              "      div.appendChild(label);\n",
              "      const progress = document.createElement('progress');\n",
              "      progress.max = size;\n",
              "      div.appendChild(progress);\n",
              "      document.body.appendChild(div);\n",
              "\n",
              "      const buffers = [];\n",
              "      let downloaded = 0;\n",
              "\n",
              "      const channel = await google.colab.kernel.comms.open(id);\n",
              "      // Send a message to notify the kernel that we're ready.\n",
              "      channel.send({})\n",
              "\n",
              "      for await (const message of channel.messages) {\n",
              "        // Send a message to notify the kernel that we're ready.\n",
              "        channel.send({})\n",
              "        if (message.buffers) {\n",
              "          for (const buffer of message.buffers) {\n",
              "            buffers.push(buffer);\n",
              "            downloaded += buffer.byteLength;\n",
              "            progress.value = downloaded;\n",
              "          }\n",
              "        }\n",
              "      }\n",
              "      const blob = new Blob(buffers, {type: 'application/binary'});\n",
              "      const a = document.createElement('a');\n",
              "      a.href = window.URL.createObjectURL(blob);\n",
              "      a.download = filename;\n",
              "      div.appendChild(a);\n",
              "      a.click();\n",
              "      div.remove();\n",
              "    }\n",
              "  "
            ]
          },
          "metadata": {}
        },
        {
          "output_type": "display_data",
          "data": {
            "text/plain": [
              "<IPython.core.display.Javascript object>"
            ],
            "application/javascript": [
              "download(\"download_9c39bb35-cfae-4b1f-b812-76c2dba240d5\", \"book_recommendation_model_4L.pth\", 2987421)"
            ]
          },
          "metadata": {}
        }
      ]
    },
    {
      "cell_type": "code",
      "source": [
        "def recommend_books(user_id, model, user_encoder, book_encoder, num_recommendations=10):\n",
        "    model.eval()\n",
        "    user_tensor = torch.LongTensor([user_id])\n",
        "    book_ids = torch.arange(num_books).unsqueeze(0)  # Change this line\n",
        "\n",
        "    user_ids = user_tensor.repeat(1, num_books)\n",
        "\n",
        "    with torch.no_grad():\n",
        "        predictions = model(user_ids, book_ids).squeeze()\n",
        "\n",
        "    # Exclude books that the user has already rated\n",
        "    rated_books = train_df[train_df['user_id'] == user_id]['book_id'].values\n",
        "    unrated_books = np.setdiff1d(np.arange(num_books), rated_books)\n",
        "\n",
        "    # print(\"unrated: \",unrated_books)\n",
        "\n",
        "    # print(predictions[unrated_books])\n",
        "    # Get indices of top recommendations\n",
        "    recommended_ratings = predictions[unrated_books]\n",
        "    top_indices = recommended_ratings.argsort(descending=True)[:num_recommendations]\n",
        "    # print(\"top indices: \",top_indices)\n",
        "    # top_book_ids = unrated_books[top_indices]\n",
        "\n",
        "    recommended_books = unrated_books[top_indices]\n",
        "    predicted_ratings = recommended_ratings[top_indices]\n",
        "\n",
        "    # print(recommended_books)\n",
        "\n",
        "    # Convert book IDs back to original values using the encoder\n",
        "    recommended_books_original = book_encoder.inverse_transform(recommended_books)\n",
        "    # # Convert book IDs back to original values using the encoder\n",
        "    # recommended_books = book_encoder.inverse_transform(top_book_ids)\n",
        "    return recommended_books_original,predicted_ratings"
      ],
      "metadata": {
        "id": "aPTq4q224Sos"
      },
      "execution_count": null,
      "outputs": []
    },
    {
      "cell_type": "code",
      "source": [
        "model"
      ],
      "metadata": {
        "id": "zIZRz_6IlyPZ"
      },
      "execution_count": null,
      "outputs": []
    },
    {
      "cell_type": "code",
      "source": [
        "# Provide a user ID and get book recommendations\n",
        "user_id_to_recommend = 720  # Change this to the user ID you want to recommend books for\n",
        "recommended_books,predicted_ratings = recommend_books(user_id_to_recommend, model, user_encoder, book_encoder)\n",
        "\n",
        "print(f\"Recommended books for user {user_id_to_recommend}:\")\n",
        "for book_id, rating in zip(recommended_books, predicted_ratings):\n",
        "    book_info = books[books['book_id'] == book_id]\n",
        "    title = book_info['title'].values[0]\n",
        "    print(f\"Book ID: {book_id}, Title: {title}, Predicted Rating: {rating:.4f}\")"
      ],
      "metadata": {
        "colab": {
          "base_uri": "https://localhost:8080/"
        },
        "id": "BIHC_wBN4VV3",
        "outputId": "3b175de4-dcca-42d9-e9d8-4f9bf88932ce"
      },
      "execution_count": null,
      "outputs": [
        {
          "output_type": "stream",
          "name": "stdout",
          "text": [
            "Recommended books for user 720:\n",
            "Book ID: 131, Title: Genesis: Finding Our Roots, Predicted Rating: 4.4515\n",
            "Book ID: 45, Title: The Saddest Pony, Predicted Rating: 4.4205\n",
            "Book ID: 69, Title: Ain't No Tomorrow, Predicted Rating: 4.4205\n",
            "Book ID: 33, Title: The Red Rose Girls: An Uncommon Story of Art and Love, Predicted Rating: 4.3123\n",
            "Book ID: 29, Title: Paul: His Story, Predicted Rating: 4.2375\n",
            "Book ID: 48, Title: The Pony and the Lost Swan, Predicted Rating: 4.2136\n",
            "Book ID: 60, Title: Minoans: Life in Bronze Age Crete, Predicted Rating: 4.2061\n",
            "Book ID: 42, Title: The Winning Pony, Predicted Rating: 4.1398\n",
            "Book ID: 9, Title: Anthropological Studies of Religion: An Introductory Text, Predicted Rating: 4.1156\n",
            "Book ID: 59, Title: The End of the Bronze Age: Changes in Warfare and the Catastrophe ca. 1200 B.C., Predicted Rating: 4.0971\n"
          ]
        }
      ]
    },
    {
      "cell_type": "code",
      "source": [
        "# Provide a user ID and get book recommendations\n",
        "user_id_to_recommend = 720  # Change this to the user ID you want to recommend books for\n",
        "recommended_books,predicted_ratings = recommend_books(user_id_to_recommend, model, user_encoder, book_encoder)\n",
        "\n",
        "print(f\"Recommended books for user {user_id_to_recommend}:\")\n",
        "for book_id, rating in zip(recommended_books, predicted_ratings):\n",
        "    book_info = books[books['book_id'] == book_id]\n",
        "    title = book_info['title'].values[0]\n",
        "    print(f\"Book ID: {book_id}, Title: {title}, Predicted Rating: {rating:.4f}\")"
      ],
      "metadata": {
        "id": "rhhcbtqhw8t5",
        "outputId": "34901f6e-b948-40b6-e329-0ddc543f680d",
        "colab": {
          "base_uri": "https://localhost:8080/"
        }
      },
      "execution_count": null,
      "outputs": [
        {
          "output_type": "stream",
          "name": "stdout",
          "text": [
            "Recommended books for user 720:\n",
            "Book ID: 6364, Title: A Hunter's Desires, Predicted Rating: 7.0239\n",
            "Book ID: 1663, Title: Buck Up, Little Buckaroo, Predicted Rating: 6.5071\n",
            "Book ID: 480, Title: Gold Fever!: Tales from the California Gold Rush, Predicted Rating: 6.4961\n",
            "Book ID: 1189, Title: The Great Eggscape, Predicted Rating: 6.4952\n",
            "Book ID: 3128, Title: The Next Eco Warriors: 22 Young Women and Men Who Are Saving the Planet, Predicted Rating: 6.4897\n",
            "Book ID: 2671, Title: Start Exploring: Gray's Anatomy: A Fact-Filled Coloring Book, Predicted Rating: 6.4416\n",
            "Book ID: 9461, Title: Trust Me, I'm Dr. Ozzy: Advice from Rock's Ultimate Survivor, Predicted Rating: 6.4002\n",
            "Book ID: 3124, Title: Electrified Sheep: Glass-Eating Scientists, Nuking the Moon, and More Bizarre Experiments, Predicted Rating: 6.3543\n",
            "Book ID: 597, Title: The Passage, Predicted Rating: 6.2813\n",
            "Book ID: 2242, Title: Nonrequired Reading, Predicted Rating: 6.2657\n"
          ]
        }
      ]
    }
  ]
}